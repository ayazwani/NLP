{
 "cells": [
  {
   "cell_type": "code",
   "execution_count": 1,
   "metadata": {},
   "outputs": [],
   "source": [
    "import spacy\n",
    "from spacy import displacy"
   ]
  },
  {
   "cell_type": "code",
   "execution_count": 2,
   "metadata": {},
   "outputs": [],
   "source": [
    "nlp = spacy.load('en_core_web_sm')"
   ]
  },
  {
   "cell_type": "code",
   "execution_count": 10,
   "metadata": {},
   "outputs": [],
   "source": [
    "text = \"\"\"A novel is a relatively long work of narrative fiction, normally written in prose form, and which is typically published as a book. The present English word for a long work of prose fiction derives from the Italian: novella for \"new\", \"news\", or \"short story of something new\", itself from the Latin: novella, a singular noun use of the neuter plural of novellus,diminutive of novus, meaning \"new\".[1]\"\"\""
   ]
  },
  {
   "cell_type": "code",
   "execution_count": 11,
   "metadata": {},
   "outputs": [
    {
     "data": {
      "text/plain": [
       "A novel is a relatively long work of narrative fiction, normally written in prose form, and which is typically published as a book. The present English word for a long work of prose fiction derives from the Italian: novella for \"new\", \"news\", or \"short story of something new\", itself from the Latin: novella, a singular noun use of the neuter plural of novellus,diminutive of novus, meaning \"new\".[1]"
      ]
     },
     "execution_count": 11,
     "metadata": {},
     "output_type": "execute_result"
    }
   ],
   "source": [
    "doc = nlp(text)\n",
    "doc"
   ]
  },
  {
   "cell_type": "code",
   "execution_count": 12,
   "metadata": {},
   "outputs": [
    {
     "name": "stdout",
     "output_type": "stream",
     "text": [
      "A\n",
      "novel\n",
      "is\n",
      "a\n",
      "relatively\n",
      "long\n",
      "work\n",
      "of\n",
      "narrative\n",
      "fiction\n",
      ",\n",
      "normally\n",
      "written\n",
      "in\n",
      "prose\n",
      "form\n",
      ",\n",
      "and\n",
      "which\n",
      "is\n",
      "typically\n",
      "published\n",
      "as\n",
      "a\n",
      "book\n",
      ".\n",
      "The\n",
      "present\n",
      "English\n",
      "word\n",
      "for\n",
      "a\n",
      "long\n",
      "work\n",
      "of\n",
      "prose\n",
      "fiction\n",
      "derives\n",
      "from\n",
      "the\n",
      "Italian\n",
      ":\n",
      "novella\n",
      "for\n",
      "\"\n",
      "new\n",
      "\"\n",
      ",\n",
      "\"\n",
      "news\n",
      "\"\n",
      ",\n",
      "or\n",
      "\"\n",
      "short\n",
      "story\n",
      "of\n",
      "something\n",
      "new\n",
      "\"\n",
      ",\n",
      "itself\n",
      "from\n",
      "the\n",
      "Latin\n",
      ":\n",
      "novella\n",
      ",\n",
      "a\n",
      "singular\n",
      "noun\n",
      "use\n",
      "of\n",
      "the\n",
      "neuter\n",
      "plural\n",
      "of\n",
      "novellus\n",
      ",\n",
      "diminutive\n",
      "of\n",
      "novus\n",
      ",\n",
      "meaning\n",
      "\"\n",
      "new\".[1\n",
      "]\n"
     ]
    }
   ],
   "source": [
    "for token in doc:\n",
    "    print(token)"
   ]
  },
  {
   "cell_type": "code",
   "execution_count": 9,
   "metadata": {},
   "outputs": [],
   "source": [
    "sent = nlp.create_pipe('sentencizer')"
   ]
  },
  {
   "cell_type": "code",
   "execution_count": 13,
   "metadata": {},
   "outputs": [
    {
     "name": "stdout",
     "output_type": "stream",
     "text": [
      "A novel is a relatively long work of narrative fiction, normally written in prose form, and which is typically published as a book.\n",
      "The present English word for a long work of prose fiction derives from the Italian: novella for \"new\", \"news\", or \"short story of something new\", itself from the Latin: novella, a singular noun use of the neuter plural of novellus,diminutive of novus, meaning \"new\".[1]\n"
     ]
    }
   ],
   "source": [
    "nlp.add_pipe(sent, before='parser')\n",
    "doc = nlp(text)\n",
    "for sent in doc.sents:\n",
    "    print(sent)"
   ]
  },
  {
   "cell_type": "code",
   "execution_count": 14,
   "metadata": {},
   "outputs": [],
   "source": [
    "from spacy.lang.en.stop_words import STOP_WORDS"
   ]
  },
  {
   "cell_type": "code",
   "execution_count": 15,
   "metadata": {},
   "outputs": [],
   "source": [
    "stopwords = list(STOP_WORDS)"
   ]
  },
  {
   "cell_type": "code",
   "execution_count": 16,
   "metadata": {},
   "outputs": [
    {
     "name": "stdout",
     "output_type": "stream",
     "text": [
      "['next', 'where', 'quite', 'than', 'been', 'ours', 'move', 'yours', 'for', 'four', 'latter', 'about', '‘ll', 'without', 'keep', 'other', '‘re', 'meanwhile', 'own', 'wherein', 'eleven', 'hereafter', 'do', \"'d\", 'anything', 'anyone', 'please', 'also', 'get', 'whereby', 'whereas', 'with', 'often', 'much', 'beyond', 'both', 'but', 'n‘t', 'then', 'otherwise', 'can', 'him', 'two', 'last', 'i', 'rather', 'whenever', 'anywhere', 'your', 'cannot', 'and', 'them', 'it', 'though', 'throughout', 'nobody', 'was', 'seem', 'she', 'something', 'again', 'front', 'formerly', 'six', 'across', 'another', 'because', 'an', 'hence', 'became', 'between', 'afterwards', 'how', 'elsewhere', 'out', 'whose', 'whereupon', '‘m', 'during', 'part', 'even', 'somewhere', 'themselves', 'say', 'yourself', 'hereby', 'under', 'by', 'thence', 'put', 'sixty', 'serious', 'you', 'former', 'were', 'more', 'no', 'forty', 'nevertheless', 'will', \"'ve\", 'along', 'used', 'too', '’m', 'amongst', 'latterly', 'why', 'her', 'below', 'except', 'when', 'did', 'call', 'his', 'itself', 'made', '’d', 'therefore', 'myself', 'once', 'wherever', 'others', 'from', 'twenty', 'whom', 'anyway', 'although', 'might', '’ve', 'only', 'else', 'namely', 'towards', 'together', 'few', 'enough', 'give', 'whence', 'nowhere', 'does', 'a', 'beforehand', '’re', 'upon', 'so', 'always', 'onto', 'such', 'as', 'become', 'show', 'take', 'may', 'before', 'somehow', 'every', 'make', 'above', 'one', 'their', 'here', 'toward', 'becomes', 'within', 'same', 'ten', 'ca', 'am', 'eight', 'five', 'my', 'seemed', 'must', 'he', 'through', 'any', 'done', 'thru', 'be', 'of', 'hundred', 'none', 'could', 'everything', 'first', 'just', 'beside', 'back', 'the', '’ll', 'less', 'whoever', 'up', 'still', 'into', 'off', 'mostly', 'me', 'over', 'are', 'what', 'via', 'its', 'thereafter', 'go', 'on', 'to', 'at', 'himself', 'due', 'almost', 'had', 'never', 'anyhow', 'already', '‘d', 'thereby', 'well', \"'s\", 'among', 'noone', 'should', 'would', 'unless', 'all', 'they', 'becoming', 'whereafter', 'now', 'empty', '’s', 'is', 'mine', 'herself', 'top', 'has', 'herein', 'sometimes', 'seeming', 'whether', 'third', 'several', 'many', 'some', 'most', 'someone', 'side', 'we', 'perhaps', 'alone', 'neither', 'doing', 'those', \"'ll\", 'who', 'besides', 'everywhere', 'after', 'sometime', 'see', 'really', 'hereupon', 'us', 'amount', 'thereupon', 'being', 'yet', 'n’t', 'since', 'whither', 'everyone', 'ever', 'per', 'twelve', 'however', 'yourselves', 'nor', 'against', 'our', 'fifteen', 'regarding', 'there', 'in', 'down', 'each', 'around', 'name', 'if', 'nothing', 'bottom', 'either', 'using', 'this', 'seems', \"'m\", 're', 'these', 'three', 'hers', \"n't\", 'various', 'fifty', 'indeed', 'not', 'very', \"'re\", 'full', 'therein', 'have', 'whatever', 'whole', 'further', 'least', 'behind', '‘s', 'thus', 'nine', 'until', 'while', 'moreover', 'ourselves', '‘ve', 'which', 'that', 'or']\n"
     ]
    }
   ],
   "source": [
    "print(stopwords)"
   ]
  },
  {
   "cell_type": "code",
   "execution_count": 17,
   "metadata": {},
   "outputs": [
    {
     "data": {
      "text/plain": [
       "326"
      ]
     },
     "execution_count": 17,
     "metadata": {},
     "output_type": "execute_result"
    }
   ],
   "source": [
    "len(stopwords)"
   ]
  },
  {
   "cell_type": "code",
   "execution_count": 19,
   "metadata": {},
   "outputs": [
    {
     "name": "stdout",
     "output_type": "stream",
     "text": [
      "novel\n",
      "relatively\n",
      "long\n",
      "work\n",
      "narrative\n",
      "fiction\n",
      ",\n",
      "normally\n",
      "written\n",
      "prose\n",
      "form\n",
      ",\n",
      "typically\n",
      "published\n",
      "book\n",
      ".\n",
      "present\n",
      "English\n",
      "word\n",
      "long\n",
      "work\n",
      "prose\n",
      "fiction\n",
      "derives\n",
      "Italian\n",
      ":\n",
      "novella\n",
      "\"\n",
      "new\n",
      "\"\n",
      ",\n",
      "\"\n",
      "news\n",
      "\"\n",
      ",\n",
      "\"\n",
      "short\n",
      "story\n",
      "new\n",
      "\"\n",
      ",\n",
      "Latin\n",
      ":\n",
      "novella\n",
      ",\n",
      "singular\n",
      "noun\n",
      "use\n",
      "neuter\n",
      "plural\n",
      "novellus\n",
      ",\n",
      "diminutive\n",
      "novus\n",
      ",\n",
      "meaning\n",
      "\"\n",
      "new\".[1\n",
      "]\n"
     ]
    }
   ],
   "source": [
    "for token in doc:\n",
    "    if token.is_stop == False:\n",
    "        print(token)    "
   ]
  },
  {
   "cell_type": "code",
   "execution_count": 21,
   "metadata": {},
   "outputs": [],
   "source": [
    "#displacy.render(doc, style = 'dep')\n"
   ]
  },
  {
   "cell_type": "markdown",
   "metadata": {},
   "source": [
    "# Lemmatization"
   ]
  },
  {
   "cell_type": "code",
   "execution_count": 27,
   "metadata": {},
   "outputs": [
    {
     "name": "stdout",
     "output_type": "stream",
     "text": [
      "run run\n",
      "runs run\n",
      "running run\n",
      "runner runner\n"
     ]
    }
   ],
   "source": [
    "doc = nlp('run runs running runner')\n",
    "for lem in doc:\n",
    "    print(lem.text, lem.lemma_)"
   ]
  },
  {
   "cell_type": "markdown",
   "metadata": {},
   "source": [
    "# POS (part of speech)"
   ]
  },
  {
   "cell_type": "code",
   "execution_count": 31,
   "metadata": {},
   "outputs": [
    {
     "name": "stdout",
     "output_type": "stream",
     "text": [
      "A DET\n",
      "novel NOUN\n",
      "is AUX\n",
      "a DET\n",
      "relatively ADV\n",
      "long ADJ\n",
      "work NOUN\n",
      "of ADP\n",
      "narrative ADJ\n",
      "fiction NOUN\n",
      ", PUNCT\n",
      "normally ADV\n",
      "written VERB\n",
      "in ADP\n",
      "prose NOUN\n",
      "form NOUN\n",
      ", PUNCT\n",
      "and CCONJ\n",
      "which DET\n",
      "is AUX\n",
      "typically ADV\n",
      "published VERB\n",
      "as SCONJ\n",
      "a DET\n",
      "book NOUN\n",
      ". PUNCT\n",
      "The DET\n",
      "present ADJ\n",
      "English ADJ\n",
      "word NOUN\n",
      "for ADP\n",
      "a DET\n",
      "long ADJ\n",
      "work NOUN\n",
      "of ADP\n",
      "prose ADJ\n",
      "fiction NOUN\n",
      "derives VERB\n",
      "from ADP\n",
      "the DET\n",
      "Italian ADJ\n",
      ": PUNCT\n",
      "novella NOUN\n",
      "for ADP\n",
      "\" PUNCT\n",
      "new ADJ\n",
      "\" PUNCT\n",
      ", PUNCT\n",
      "\" PUNCT\n",
      "news NOUN\n",
      "\" PUNCT\n",
      ", PUNCT\n",
      "or CCONJ\n",
      "\" PUNCT\n",
      "short ADJ\n",
      "story NOUN\n",
      "of ADP\n",
      "something PRON\n",
      "new ADJ\n",
      "\" PUNCT\n",
      ", PUNCT\n",
      "itself PRON\n",
      "from ADP\n",
      "the DET\n",
      "Latin PROPN\n",
      ": PUNCT\n",
      "novella NOUN\n",
      ", PUNCT\n",
      "a DET\n",
      "singular ADJ\n",
      "noun ADJ\n",
      "use NOUN\n",
      "of ADP\n",
      "the DET\n",
      "neuter ADJ\n",
      "plural NOUN\n",
      "of ADP\n",
      "novellus PROPN\n",
      ", PUNCT\n",
      "diminutive ADJ\n",
      "of ADP\n",
      "novus NOUN\n",
      ", PUNCT\n",
      "meaning VERB\n",
      "\" PUNCT\n",
      "new\".[1 NOUN\n",
      "] PUNCT\n"
     ]
    }
   ],
   "source": [
    "doc = nlp(text)\n",
    "for token in doc:\n",
    "    print(token.text, token.pos_)"
   ]
  },
  {
   "cell_type": "code",
   "execution_count": 32,
   "metadata": {},
   "outputs": [
    {
     "name": "stdout",
     "output_type": "stream",
     "text": [
      "All DET\n",
      "is AUX\n",
      "well ADJ\n",
      "at ADP\n",
      "your DET\n",
      "end NOUN\n",
      "! PUNCT\n"
     ]
    }
   ],
   "source": [
    "doc = nlp('All is well at your end!')\n",
    "for token in doc:\n",
    "    print(token.text, token.pos_)"
   ]
  },
  {
   "cell_type": "code",
   "execution_count": 33,
   "metadata": {},
   "outputs": [
    {
     "data": {
      "text/html": [
       "<span class=\"tex2jax_ignore\"><svg xmlns=\"http://www.w3.org/2000/svg\" xmlns:xlink=\"http://www.w3.org/1999/xlink\" xml:lang=\"en\" id=\"fa81c599a0f149a59bd13a197a357fa4-0\" class=\"displacy\" width=\"1100\" height=\"312.0\" direction=\"ltr\" style=\"max-width: none; height: 312.0px; color: #000000; background: #ffffff; font-family: Arial; direction: ltr\">\n",
       "<text class=\"displacy-token\" fill=\"currentColor\" text-anchor=\"middle\" y=\"222.0\">\n",
       "    <tspan class=\"displacy-word\" fill=\"currentColor\" x=\"50\">All</tspan>\n",
       "    <tspan class=\"displacy-tag\" dy=\"2em\" fill=\"currentColor\" x=\"50\">DET</tspan>\n",
       "</text>\n",
       "\n",
       "<text class=\"displacy-token\" fill=\"currentColor\" text-anchor=\"middle\" y=\"222.0\">\n",
       "    <tspan class=\"displacy-word\" fill=\"currentColor\" x=\"225\">is</tspan>\n",
       "    <tspan class=\"displacy-tag\" dy=\"2em\" fill=\"currentColor\" x=\"225\">AUX</tspan>\n",
       "</text>\n",
       "\n",
       "<text class=\"displacy-token\" fill=\"currentColor\" text-anchor=\"middle\" y=\"222.0\">\n",
       "    <tspan class=\"displacy-word\" fill=\"currentColor\" x=\"400\">well</tspan>\n",
       "    <tspan class=\"displacy-tag\" dy=\"2em\" fill=\"currentColor\" x=\"400\">ADJ</tspan>\n",
       "</text>\n",
       "\n",
       "<text class=\"displacy-token\" fill=\"currentColor\" text-anchor=\"middle\" y=\"222.0\">\n",
       "    <tspan class=\"displacy-word\" fill=\"currentColor\" x=\"575\">at</tspan>\n",
       "    <tspan class=\"displacy-tag\" dy=\"2em\" fill=\"currentColor\" x=\"575\">ADP</tspan>\n",
       "</text>\n",
       "\n",
       "<text class=\"displacy-token\" fill=\"currentColor\" text-anchor=\"middle\" y=\"222.0\">\n",
       "    <tspan class=\"displacy-word\" fill=\"currentColor\" x=\"750\">your</tspan>\n",
       "    <tspan class=\"displacy-tag\" dy=\"2em\" fill=\"currentColor\" x=\"750\">DET</tspan>\n",
       "</text>\n",
       "\n",
       "<text class=\"displacy-token\" fill=\"currentColor\" text-anchor=\"middle\" y=\"222.0\">\n",
       "    <tspan class=\"displacy-word\" fill=\"currentColor\" x=\"925\">end!</tspan>\n",
       "    <tspan class=\"displacy-tag\" dy=\"2em\" fill=\"currentColor\" x=\"925\">NOUN</tspan>\n",
       "</text>\n",
       "\n",
       "<g class=\"displacy-arrow\">\n",
       "    <path class=\"displacy-arc\" id=\"arrow-fa81c599a0f149a59bd13a197a357fa4-0-0\" stroke-width=\"2px\" d=\"M70,177.0 C70,89.5 220.0,89.5 220.0,177.0\" fill=\"none\" stroke=\"currentColor\"/>\n",
       "    <text dy=\"1.25em\" style=\"font-size: 0.8em; letter-spacing: 1px\">\n",
       "        <textPath xlink:href=\"#arrow-fa81c599a0f149a59bd13a197a357fa4-0-0\" class=\"displacy-label\" startOffset=\"50%\" side=\"left\" fill=\"currentColor\" text-anchor=\"middle\">nsubj</textPath>\n",
       "    </text>\n",
       "    <path class=\"displacy-arrowhead\" d=\"M70,179.0 L62,167.0 78,167.0\" fill=\"currentColor\"/>\n",
       "</g>\n",
       "\n",
       "<g class=\"displacy-arrow\">\n",
       "    <path class=\"displacy-arc\" id=\"arrow-fa81c599a0f149a59bd13a197a357fa4-0-1\" stroke-width=\"2px\" d=\"M245,177.0 C245,89.5 395.0,89.5 395.0,177.0\" fill=\"none\" stroke=\"currentColor\"/>\n",
       "    <text dy=\"1.25em\" style=\"font-size: 0.8em; letter-spacing: 1px\">\n",
       "        <textPath xlink:href=\"#arrow-fa81c599a0f149a59bd13a197a357fa4-0-1\" class=\"displacy-label\" startOffset=\"50%\" side=\"left\" fill=\"currentColor\" text-anchor=\"middle\">advmod</textPath>\n",
       "    </text>\n",
       "    <path class=\"displacy-arrowhead\" d=\"M395.0,179.0 L403.0,167.0 387.0,167.0\" fill=\"currentColor\"/>\n",
       "</g>\n",
       "\n",
       "<g class=\"displacy-arrow\">\n",
       "    <path class=\"displacy-arc\" id=\"arrow-fa81c599a0f149a59bd13a197a357fa4-0-2\" stroke-width=\"2px\" d=\"M245,177.0 C245,2.0 575.0,2.0 575.0,177.0\" fill=\"none\" stroke=\"currentColor\"/>\n",
       "    <text dy=\"1.25em\" style=\"font-size: 0.8em; letter-spacing: 1px\">\n",
       "        <textPath xlink:href=\"#arrow-fa81c599a0f149a59bd13a197a357fa4-0-2\" class=\"displacy-label\" startOffset=\"50%\" side=\"left\" fill=\"currentColor\" text-anchor=\"middle\">prep</textPath>\n",
       "    </text>\n",
       "    <path class=\"displacy-arrowhead\" d=\"M575.0,179.0 L583.0,167.0 567.0,167.0\" fill=\"currentColor\"/>\n",
       "</g>\n",
       "\n",
       "<g class=\"displacy-arrow\">\n",
       "    <path class=\"displacy-arc\" id=\"arrow-fa81c599a0f149a59bd13a197a357fa4-0-3\" stroke-width=\"2px\" d=\"M770,177.0 C770,89.5 920.0,89.5 920.0,177.0\" fill=\"none\" stroke=\"currentColor\"/>\n",
       "    <text dy=\"1.25em\" style=\"font-size: 0.8em; letter-spacing: 1px\">\n",
       "        <textPath xlink:href=\"#arrow-fa81c599a0f149a59bd13a197a357fa4-0-3\" class=\"displacy-label\" startOffset=\"50%\" side=\"left\" fill=\"currentColor\" text-anchor=\"middle\">poss</textPath>\n",
       "    </text>\n",
       "    <path class=\"displacy-arrowhead\" d=\"M770,179.0 L762,167.0 778,167.0\" fill=\"currentColor\"/>\n",
       "</g>\n",
       "\n",
       "<g class=\"displacy-arrow\">\n",
       "    <path class=\"displacy-arc\" id=\"arrow-fa81c599a0f149a59bd13a197a357fa4-0-4\" stroke-width=\"2px\" d=\"M595,177.0 C595,2.0 925.0,2.0 925.0,177.0\" fill=\"none\" stroke=\"currentColor\"/>\n",
       "    <text dy=\"1.25em\" style=\"font-size: 0.8em; letter-spacing: 1px\">\n",
       "        <textPath xlink:href=\"#arrow-fa81c599a0f149a59bd13a197a357fa4-0-4\" class=\"displacy-label\" startOffset=\"50%\" side=\"left\" fill=\"currentColor\" text-anchor=\"middle\">pobj</textPath>\n",
       "    </text>\n",
       "    <path class=\"displacy-arrowhead\" d=\"M925.0,179.0 L933.0,167.0 917.0,167.0\" fill=\"currentColor\"/>\n",
       "</g>\n",
       "</svg></span>"
      ],
      "text/plain": [
       "<IPython.core.display.HTML object>"
      ]
     },
     "metadata": {},
     "output_type": "display_data"
    }
   ],
   "source": [
    "displacy.render(doc, style = 'dep')"
   ]
  },
  {
   "cell_type": "markdown",
   "metadata": {},
   "source": [
    "# Entity Detection:"
   ]
  },
  {
   "cell_type": "code",
   "execution_count": 23,
   "metadata": {},
   "outputs": [],
   "source": [
    "doc = nlp(\"New York City on Tuesday declared a public health emergency and ordered mandatory measles vaccinations amid an outbreak, becoming the latest national flash point over refusals to inoculate against dangerous diseases. At least 285 people have contracted measles in the city since September, mostly in Brooklyn’s Williamsburg neighborhood. The order covers four Zip codes there, Mayor Bill de Blasio (D) said Tuesday. The mandate orders all unvaccinated people in the area, including a concentration of Orthodox Jews, to receive inoculations, including for children as young as 6 months old. Anyone who resists could be fined up to $1,000.\")"
   ]
  },
  {
   "cell_type": "code",
   "execution_count": 24,
   "metadata": {},
   "outputs": [
    {
     "data": {
      "text/plain": [
       "New York City on Tuesday declared a public health emergency and ordered mandatory measles vaccinations amid an outbreak, becoming the latest national flash point over refusals to inoculate against dangerous diseases. At least 285 people have contracted measles in the city since September, mostly in Brooklyn’s Williamsburg neighborhood. The order covers four Zip codes there, Mayor Bill de Blasio (D) said Tuesday. The mandate orders all unvaccinated people in the area, including a concentration of Orthodox Jews, to receive inoculations, including for children as young as 6 months old. Anyone who resists could be fined up to $1,000."
      ]
     },
     "execution_count": 24,
     "metadata": {},
     "output_type": "execute_result"
    }
   ],
   "source": [
    "doc"
   ]
  },
  {
   "cell_type": "code",
   "execution_count": 25,
   "metadata": {},
   "outputs": [
    {
     "data": {
      "text/html": [
       "<span class=\"tex2jax_ignore\"><div class=\"entities\" style=\"line-height: 2.5; direction: ltr\">\n",
       "<mark class=\"entity\" style=\"background: #feca74; padding: 0.45em 0.6em; margin: 0 0.25em; line-height: 1; border-radius: 0.35em;\">\n",
       "    New York City\n",
       "    <span style=\"font-size: 0.8em; font-weight: bold; line-height: 1; border-radius: 0.35em; text-transform: uppercase; vertical-align: middle; margin-left: 0.5rem\">GPE</span>\n",
       "</mark>\n",
       " on \n",
       "<mark class=\"entity\" style=\"background: #bfe1d9; padding: 0.45em 0.6em; margin: 0 0.25em; line-height: 1; border-radius: 0.35em;\">\n",
       "    Tuesday\n",
       "    <span style=\"font-size: 0.8em; font-weight: bold; line-height: 1; border-radius: 0.35em; text-transform: uppercase; vertical-align: middle; margin-left: 0.5rem\">DATE</span>\n",
       "</mark>\n",
       " declared a public health emergency and ordered mandatory measles vaccinations amid an outbreak, becoming the latest national flash point over refusals to inoculate against dangerous diseases. \n",
       "<mark class=\"entity\" style=\"background: #e4e7d2; padding: 0.45em 0.6em; margin: 0 0.25em; line-height: 1; border-radius: 0.35em;\">\n",
       "    At least 285\n",
       "    <span style=\"font-size: 0.8em; font-weight: bold; line-height: 1; border-radius: 0.35em; text-transform: uppercase; vertical-align: middle; margin-left: 0.5rem\">CARDINAL</span>\n",
       "</mark>\n",
       " people have contracted measles in the city since \n",
       "<mark class=\"entity\" style=\"background: #bfe1d9; padding: 0.45em 0.6em; margin: 0 0.25em; line-height: 1; border-radius: 0.35em;\">\n",
       "    September\n",
       "    <span style=\"font-size: 0.8em; font-weight: bold; line-height: 1; border-radius: 0.35em; text-transform: uppercase; vertical-align: middle; margin-left: 0.5rem\">DATE</span>\n",
       "</mark>\n",
       ", mostly in \n",
       "<mark class=\"entity\" style=\"background: #feca74; padding: 0.45em 0.6em; margin: 0 0.25em; line-height: 1; border-radius: 0.35em;\">\n",
       "    Brooklyn\n",
       "    <span style=\"font-size: 0.8em; font-weight: bold; line-height: 1; border-radius: 0.35em; text-transform: uppercase; vertical-align: middle; margin-left: 0.5rem\">GPE</span>\n",
       "</mark>\n",
       "’s \n",
       "<mark class=\"entity\" style=\"background: #feca74; padding: 0.45em 0.6em; margin: 0 0.25em; line-height: 1; border-radius: 0.35em;\">\n",
       "    Williamsburg\n",
       "    <span style=\"font-size: 0.8em; font-weight: bold; line-height: 1; border-radius: 0.35em; text-transform: uppercase; vertical-align: middle; margin-left: 0.5rem\">GPE</span>\n",
       "</mark>\n",
       " neighborhood. The order covers \n",
       "<mark class=\"entity\" style=\"background: #e4e7d2; padding: 0.45em 0.6em; margin: 0 0.25em; line-height: 1; border-radius: 0.35em;\">\n",
       "    four\n",
       "    <span style=\"font-size: 0.8em; font-weight: bold; line-height: 1; border-radius: 0.35em; text-transform: uppercase; vertical-align: middle; margin-left: 0.5rem\">CARDINAL</span>\n",
       "</mark>\n",
       " Zip codes there, Mayor \n",
       "<mark class=\"entity\" style=\"background: #aa9cfc; padding: 0.45em 0.6em; margin: 0 0.25em; line-height: 1; border-radius: 0.35em;\">\n",
       "    Bill de Blasio\n",
       "    <span style=\"font-size: 0.8em; font-weight: bold; line-height: 1; border-radius: 0.35em; text-transform: uppercase; vertical-align: middle; margin-left: 0.5rem\">PERSON</span>\n",
       "</mark>\n",
       " (D) said \n",
       "<mark class=\"entity\" style=\"background: #bfe1d9; padding: 0.45em 0.6em; margin: 0 0.25em; line-height: 1; border-radius: 0.35em;\">\n",
       "    Tuesday\n",
       "    <span style=\"font-size: 0.8em; font-weight: bold; line-height: 1; border-radius: 0.35em; text-transform: uppercase; vertical-align: middle; margin-left: 0.5rem\">DATE</span>\n",
       "</mark>\n",
       ". The mandate orders all unvaccinated people in the area, including a concentration of \n",
       "<mark class=\"entity\" style=\"background: #c887fb; padding: 0.45em 0.6em; margin: 0 0.25em; line-height: 1; border-radius: 0.35em;\">\n",
       "    Orthodox\n",
       "    <span style=\"font-size: 0.8em; font-weight: bold; line-height: 1; border-radius: 0.35em; text-transform: uppercase; vertical-align: middle; margin-left: 0.5rem\">NORP</span>\n",
       "</mark>\n",
       " \n",
       "<mark class=\"entity\" style=\"background: #c887fb; padding: 0.45em 0.6em; margin: 0 0.25em; line-height: 1; border-radius: 0.35em;\">\n",
       "    Jews\n",
       "    <span style=\"font-size: 0.8em; font-weight: bold; line-height: 1; border-radius: 0.35em; text-transform: uppercase; vertical-align: middle; margin-left: 0.5rem\">NORP</span>\n",
       "</mark>\n",
       ", to receive inoculations, including for children as young as 6 months old. Anyone who resists could be fined \n",
       "<mark class=\"entity\" style=\"background: #e4e7d2; padding: 0.45em 0.6em; margin: 0 0.25em; line-height: 1; border-radius: 0.35em;\">\n",
       "    up to $1,000\n",
       "    <span style=\"font-size: 0.8em; font-weight: bold; line-height: 1; border-radius: 0.35em; text-transform: uppercase; vertical-align: middle; margin-left: 0.5rem\">MONEY</span>\n",
       "</mark>\n",
       ".</div></span>"
      ],
      "text/plain": [
       "<IPython.core.display.HTML object>"
      ]
     },
     "metadata": {},
     "output_type": "display_data"
    }
   ],
   "source": [
    "displacy.render(doc, style = 'ent')\n"
   ]
  },
  {
   "cell_type": "code",
   "execution_count": null,
   "metadata": {},
   "outputs": [],
   "source": []
  }
 ],
 "metadata": {
  "kernelspec": {
   "display_name": "Python 3",
   "language": "python",
   "name": "python3"
  },
  "language_info": {
   "codemirror_mode": {
    "name": "ipython",
    "version": 3
   },
   "file_extension": ".py",
   "mimetype": "text/x-python",
   "name": "python",
   "nbconvert_exporter": "python",
   "pygments_lexer": "ipython3",
   "version": "3.7.3"
  }
 },
 "nbformat": 4,
 "nbformat_minor": 4
}
